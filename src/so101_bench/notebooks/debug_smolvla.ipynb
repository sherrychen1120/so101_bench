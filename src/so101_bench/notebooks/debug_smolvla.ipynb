{
 "cells": [
  {
   "cell_type": "markdown",
   "id": "70da79ae",
   "metadata": {},
   "source": [
    "## Debug make_lerobot_dataset_with_episodes()\n",
    "\n",
    "### Quick Start\n",
    "\n",
    "1. **Point to a training output directory** that contains `train_pipeline_config.yaml`\n",
    "2. **Update the path** in the cell below\n",
    "3. **Run all cells** to load the config and test the dataset creation\n",
    "\n",
    "### What this notebook does\n",
    "\n",
    "- Loads the saved training config from a previous run\n",
    "- Reconstructs a `TrainPipelineConfig` object\n",
    "- Tests `make_lerobot_dataset_with_episodes()` with sample episodes\n",
    "- Shows you the dataset structure and sample data\n"
   ]
  },
  {
   "cell_type": "code",
   "execution_count": null,
   "id": "27fcbfe8",
   "metadata": {},
   "outputs": [],
   "source": [
    "import sys\n",
    "from pathlib import Path\n",
    "import yaml\n",
    "\n",
    "# Add the necessary paths\n",
    "sys.path.insert(0, str(Path.cwd().parent.parent.parent / \"third_party\" / \"lerobot\" / \"src\"))\n",
    "\n",
    "# Import the types that are in the YAML file so yaml.load can reconstruct them\n",
    "from lerobot.configs.types import FeatureType, NormalizationMode\n",
    "from lerobot.configs.train import TrainPipelineConfig\n"
   ]
  },
  {
   "cell_type": "code",
   "execution_count": 10,
   "id": "fdb274ff",
   "metadata": {},
   "outputs": [
    {
     "name": "stdout",
     "output_type": "stream",
     "text": [
      "Found config at: /home/melon/sherry/so101_bench/outputs/2025-09-14_smolvla/train_pipeline_config.yaml\n"
     ]
    }
   ],
   "source": [
    "# Specify the path to your training output directory\n",
    "training_output_dir = Path(\"/home/melon/sherry/so101_bench/outputs/2025-09-14_smolvla\")\n",
    "\n",
    "# The config file path\n",
    "config_path = training_output_dir / \"train_pipeline_config.yaml\"\n",
    "\n",
    "if config_path.exists():\n",
    "    print(f\"Found config at: {config_path}\")\n",
    "else:\n",
    "    print(f\"Config not found at {config_path}\")\n",
    "    print(\"Please update the training_output_dir path above\")\n"
   ]
  },
  {
   "cell_type": "code",
   "execution_count": 13,
   "id": "7ca96f22",
   "metadata": {},
   "outputs": [
    {
     "name": "stdout",
     "output_type": "stream",
     "text": [
      "Loaded config from: /home/melon/sherry/so101_bench/outputs/2025-09-14_smolvla/train_pipeline_config.yaml\n",
      "\n",
      "Config keys: ['batch_size', 'dataset', 'env', 'eval', 'eval_freq', 'job_name', 'log_freq', 'num_workers', 'optimizer', 'output_dir', 'policy', 'resume', 'save_checkpoint', 'save_freq', 'scheduler', 'seed', 'steps', 'use_policy_training_preset', 'wandb']\n"
     ]
    }
   ],
   "source": [
    "# Load the YAML config with unsafe_load to handle all Python objects\n",
    "# This is safe here because we trust the config file we created\n",
    "with open(config_path, 'r') as f:\n",
    "    config_dict = yaml.unsafe_load(f)\n",
    "\n",
    "print(\"Loaded config from:\", config_path)\n",
    "print(\"\\nConfig keys:\", list(config_dict.keys()))\n"
   ]
  },
  {
   "cell_type": "code",
   "execution_count": null,
   "id": "9827cff3",
   "metadata": {},
   "outputs": [
    {
     "name": "stdout",
     "output_type": "stream",
     "text": [
      "Dataset config:\n",
      "episodes: null\n",
      "image_transforms:\n",
      "  enable: false\n",
      "  max_num_transforms: 3\n",
      "  random_order: false\n",
      "  tfs:\n",
      "    brightness:\n",
      "      kwargs:\n",
      "        brightness:\n",
      "        - 0.8\n",
      "        - 1.2\n",
      "      type: ColorJitter\n",
      "      weight: 1.0\n",
      "    contrast:\n",
      "      kwargs:\n",
      "        contrast:\n",
      "        - 0.8\n",
      "        - 1.2\n",
      "      type: ColorJitter\n",
      "      weight: 1.0\n",
      "    hue:\n",
      "      kwargs:\n",
      "        hue:\n",
      "        - -0.05\n",
      "        - 0.05\n",
      "      type: ColorJitter\n",
      "      weight: 1.0\n",
      "    saturation:\n",
      "      kwargs:\n",
      "        saturation:\n",
      "        - 0.5\n",
      "        - 1.5\n",
      "      type: ColorJitter\n",
      "      weight: 1.0\n",
      "    sharpness:\n",
      "      kwargs:\n",
      "        sharpness:\n",
      "        - 0.5\n",
      "        - 1.5\n",
      "      type: SharpnessJitter\n",
      "      weight: 1.0\n",
      "raw_dataset_root: /home/melon/sherry/so101_bench/datasets/recordings/\n",
      "repo_id: sherryxychen/2025-09-01_pick-and-place-block\n",
      "revision: null\n",
      "root: null\n",
      "use_imagenet_stats: true\n",
      "video_backend: torchcodec\n",
      "\n",
      "\n",
      "================================================================================\n",
      "\n",
      "Policy config (subset of fields):\n",
      "  type: smolvla\n",
      "  n_obs_steps: 1\n",
      "  chunk_size: 50\n",
      "  n_action_steps: 50\n",
      "  input_features: {'observation.image': {'shape': [3, 256, 256], 'type': <FeatureType.VISUAL: 'VISUAL'>}, 'observation.image2': {'shape': [3, 256, 256], 'type': <FeatureType.VISUAL: 'VISUAL'>}, 'observation.image3': {'shape': [3, 256, 256], 'type': <FeatureType.VISUAL: 'VISUAL'>}, 'observation.state': {'shape': [6], 'type': <FeatureType.STATE: 'STATE'>}}\n",
      "  output_features: {'action': {'shape': [6], 'type': <FeatureType.ACTION: 'ACTION'>}}\n"
     ]
    }
   ],
   "source": [
    "# View the dataset and policy config\n",
    "print(\"Dataset config:\")\n",
    "print(yaml.dump(config_dict.get('dataset', {}), default_flow_style=False, indent=2))\n",
    "\n",
    "print(\"\\n\" + \"=\"*80 + \"\\n\")\n",
    "\n",
    "print(\"Policy config (subset of fields):\")\n",
    "policy_config = config_dict.get('policy', {})\n",
    "relevant_keys = ['type', 'n_obs_steps', 'chunk_size', 'n_action_steps', 'input_features', 'output_features']\n",
    "for key in relevant_keys:\n",
    "    if key in policy_config:\n",
    "        print(f\"  {key}: {policy_config[key]}\")\n"
   ]
  },
  {
   "cell_type": "code",
   "execution_count": null,
   "id": "9f764dc4",
   "metadata": {},
   "outputs": [],
   "source": [
    "del config_dict['wandb']['log_loss_dict']"
   ]
  },
  {
   "cell_type": "code",
   "execution_count": null,
   "id": "2ff67711",
   "metadata": {},
   "outputs": [
    {
     "name": "stdout",
     "output_type": "stream",
     "text": [
      "✓ Successfully reconstructed TrainPipelineConfig\n",
      "  Dataset repo_id: sherryxychen/2025-09-01_pick-and-place-block\n",
      "  Dataset root: None\n",
      "  Dataset raw_dataset_root: /home/melon/sherry/so101_bench/datasets/recordings/\n",
      "  Policy type: smolvla\n",
      "  Policy n_obs_steps: 1\n",
      "  Policy chunk_size: 50\n"
     ]
    }
   ],
   "source": [
    "# Reconstruct the TrainPipelineConfig from the loaded dict\n",
    "import draccus\n",
    "import json\n",
    "import tempfile\n",
    "\n",
    "# draccus expects JSON format, so we convert via a temp file\n",
    "with tempfile.NamedTemporaryFile(mode='w', suffix='.json', delete=False) as f:\n",
    "    json.dump(config_dict, f, indent=2, default=str)\n",
    "    temp_config_path = f.name\n",
    "\n",
    "try:\n",
    "    with draccus.config_type(\"json\"):\n",
    "        cfg = draccus.parse(TrainPipelineConfig, temp_config_path, args=[])\n",
    "    \n",
    "    print(\"✓ Successfully reconstructed TrainPipelineConfig\")\n",
    "    print(f\"  Dataset repo_id: {cfg.dataset.repo_id}\")\n",
    "    print(f\"  Dataset root: {cfg.dataset.root}\")\n",
    "    print(f\"  Dataset raw_dataset_root: {cfg.dataset.raw_dataset_root}\")\n",
    "    print(f\"  Policy type: {cfg.policy.type if cfg.policy else 'None'}\")\n",
    "    print(f\"  Policy n_obs_steps: {cfg.policy.n_obs_steps if cfg.policy else 'None'}\")\n",
    "    print(f\"  Policy chunk_size: {cfg.policy.chunk_size if cfg.policy else 'None'}\")\n",
    "finally:\n",
    "    Path(temp_config_path).unlink()\n"
   ]
  },
  {
   "cell_type": "code",
   "execution_count": null,
   "id": "b9bc31e0",
   "metadata": {},
   "outputs": [
    {
     "name": "stdout",
     "output_type": "stream",
     "text": [
      "Found splits:\n",
      "  Train episodes (126): [0, 1, 2, 3, 4]...\n",
      "  Val episodes (10): [60, 61, 62, 63, 64]...\n"
     ]
    }
   ],
   "source": [
    "# Import the function we want to debug\n",
    "sys.path.insert(0, str(Path.cwd().parent))\n",
    "\n",
    "from scripts.train.train import make_lerobot_dataset_with_episodes\n",
    "from scripts.train.train import load_splits_yaml, get_episode_indices_from_names\n",
    "\n",
    "# Load splits if raw_dataset_root is available\n",
    "if cfg.dataset.raw_dataset_root:\n",
    "    dataset_name = cfg.dataset.repo_id.split('/')[-1]\n",
    "    raw_dataset_dir = Path(cfg.dataset.raw_dataset_root) / dataset_name\n",
    "    \n",
    "    if (raw_dataset_dir / \"splits.yaml\").exists():\n",
    "        splits = load_splits_yaml(raw_dataset_dir)\n",
    "        \n",
    "        train_episode_names = splits.get('train', [])\n",
    "        val_episode_names = splits.get('val_id', [])\n",
    "        \n",
    "        train_episodes = get_episode_indices_from_names(train_episode_names)\n",
    "        val_episodes = get_episode_indices_from_names(val_episode_names)\n",
    "        \n",
    "        print(f\"Found splits:\")\n",
    "        print(f\"  Train episodes ({len(train_episodes)}): {train_episodes[:5]}...\") if len(train_episodes) > 5 else print(f\"  Train episodes: {train_episodes}\")\n",
    "        print(f\"  Val episodes ({len(val_episodes)}): {val_episodes[:5]}...\") if len(val_episodes) > 5 else print(f\"  Val episodes: {val_episodes}\")\n",
    "    else:\n",
    "        print(f\"No splits.yaml found at {raw_dataset_dir / 'splits.yaml'}\")\n",
    "        train_episodes = None\n",
    "else:\n",
    "    print(\"No raw_dataset_root configured\")\n",
    "    train_episodes = None\n"
   ]
  },
  {
   "cell_type": "code",
   "execution_count": null,
   "id": "bbc194c6",
   "metadata": {},
   "outputs": [
    {
     "name": "stdout",
     "output_type": "stream",
     "text": [
      "\n",
      "✓ Successfully created dataset!\n",
      "  Number of episodes: 10\n",
      "  Number of frames: 7319\n",
      "  Episode indices: [60, 61, 62, 63, 64, 65, 66, 67, 70, 71]\n",
      "  Video backend: torchcodec\n"
     ]
    }
   ],
   "source": [
    "# Create the dataset with the test episodes\n",
    "try:\n",
    "    dataset = make_lerobot_dataset_with_episodes(cfg, val_episodes)\n",
    "    print(f\"\\n✓ Successfully created dataset!\")\n",
    "    print(f\"  Number of episodes: {dataset.num_episodes}\")\n",
    "    print(f\"  Number of frames: {dataset.num_frames}\")\n",
    "    print(f\"  Episode indices: {dataset.episodes}\")\n",
    "    print(f\"  Video backend: {dataset.video_backend}\")\n",
    "except Exception as e:\n",
    "    print(f\"\\n✗ Error creating dataset:\")\n",
    "    print(f\"  {type(e).__name__}: {e}\")\n",
    "    import traceback\n",
    "    traceback.print_exc()\n"
   ]
  },
  {
   "cell_type": "code",
   "execution_count": null,
   "id": "2aafcf71",
   "metadata": {},
   "outputs": [
    {
     "name": "stdout",
     "output_type": "stream",
     "text": [
      "tensor([   0,  696, 1465, 2203, 2918, 3671, 4364, 5072, 5773, 6666])\n",
      "tensor([ 696, 1465, 2203, 2918, 3671, 4364, 5072, 5773, 6666, 7319])\n",
      "769\n",
      "{'action': [0, 1, 2, 3, 4, 5, 6, 7, 8, 9, 10, 11, 12, 13, 14, 15, 16, 17, 18, 19, 20, 21, 22, 23, 24, 25, 26, 27, 28, 29, 30, 31, 32, 33, 34, 35, 36, 37, 38, 39, 40, 41, 42, 43, 44, 45, 46, 47, 48, 49], 'observation.state': [0], 'observation.images.cam_front': [0], 'observation.images.cam_top': [0]}\n",
      "tensor(0.0667)\n",
      "tensor(60)\n",
      "tensor(2)\n"
     ]
    }
   ],
   "source": [
    "print(dataset.episode_data_index[\"from\"])\n",
    "print(dataset.episode_data_index[\"to\"])\n",
    "print(dataset.meta.episodes[61][\"length\"])\n",
    "print(dataset.delta_indices)\n",
    "item = dataset[2]\n",
    "item.keys()\n",
    "\n",
    "print(item[\"timestamp\"])\n",
    "print(item[\"episode_index\"])\n",
    "print(item[\"frame_index\"])"
   ]
  },
  {
   "cell_type": "code",
   "execution_count": null,
   "id": "36b68821",
   "metadata": {},
   "outputs": [
    {
     "name": "stdout",
     "output_type": "stream",
     "text": [
      "{64, 65, 66, 67, 70, 71, 60, 61, 62, 63}\n"
     ]
    }
   ],
   "source": [
    "episode_indices = set()\n",
    "for i in range(dataset.num_frames):\n",
    "    episode_indices.add(dataset[i][\"episode_index\"].item())\n",
    "\n",
    "print(episode_indices)\n",
    "\n",
    "\n",
    "\n"
   ]
  },
  {
   "cell_type": "markdown",
   "id": "de3b5860",
   "metadata": {},
   "source": [
    "## Visualize joint trajectory"
   ]
  },
  {
   "cell_type": "code",
   "execution_count": null,
   "id": "6689bc7e",
   "metadata": {},
   "outputs": [
    {
     "data": {
      "text/html": [
       "<div>\n",
       "<style scoped>\n",
       "    .dataframe tbody tr th:only-of-type {\n",
       "        vertical-align: middle;\n",
       "    }\n",
       "\n",
       "    .dataframe tbody tr th {\n",
       "        vertical-align: top;\n",
       "    }\n",
       "\n",
       "    .dataframe thead th {\n",
       "        text-align: right;\n",
       "    }\n",
       "</style>\n",
       "<table border=\"1\" class=\"dataframe\">\n",
       "  <thead>\n",
       "    <tr style=\"text-align: right;\">\n",
       "      <th></th>\n",
       "      <th>sequence_number</th>\n",
       "      <th>timestamp</th>\n",
       "      <th>shoulder_pan.pos</th>\n",
       "      <th>shoulder_lift.pos</th>\n",
       "      <th>elbow_flex.pos</th>\n",
       "      <th>wrist_flex.pos</th>\n",
       "      <th>wrist_roll.pos</th>\n",
       "      <th>gripper.pos</th>\n",
       "    </tr>\n",
       "  </thead>\n",
       "  <tbody>\n",
       "    <tr>\n",
       "      <th>0</th>\n",
       "      <td>1</td>\n",
       "      <td>2025-09-17 05:02:57.577260971</td>\n",
       "      <td>8.741522</td>\n",
       "      <td>-98.803419</td>\n",
       "      <td>99.274705</td>\n",
       "      <td>76.182137</td>\n",
       "      <td>-48.614741</td>\n",
       "      <td>1.480385</td>\n",
       "    </tr>\n",
       "    <tr>\n",
       "      <th>1</th>\n",
       "      <td>2</td>\n",
       "      <td>2025-09-17 05:02:57.591734171</td>\n",
       "      <td>8.741522</td>\n",
       "      <td>-98.803419</td>\n",
       "      <td>99.274705</td>\n",
       "      <td>76.182137</td>\n",
       "      <td>-48.614741</td>\n",
       "      <td>1.480385</td>\n",
       "    </tr>\n",
       "    <tr>\n",
       "      <th>2</th>\n",
       "      <td>3</td>\n",
       "      <td>2025-09-17 05:02:57.626360655</td>\n",
       "      <td>8.741522</td>\n",
       "      <td>-98.803419</td>\n",
       "      <td>99.274705</td>\n",
       "      <td>76.182137</td>\n",
       "      <td>-48.614741</td>\n",
       "      <td>1.480385</td>\n",
       "    </tr>\n",
       "    <tr>\n",
       "      <th>3</th>\n",
       "      <td>4</td>\n",
       "      <td>2025-09-17 05:02:57.660084963</td>\n",
       "      <td>8.741522</td>\n",
       "      <td>-98.290598</td>\n",
       "      <td>99.184044</td>\n",
       "      <td>76.094571</td>\n",
       "      <td>-48.562467</td>\n",
       "      <td>1.480385</td>\n",
       "    </tr>\n",
       "    <tr>\n",
       "      <th>4</th>\n",
       "      <td>5</td>\n",
       "      <td>2025-09-17 05:02:57.691118002</td>\n",
       "      <td>8.816880</td>\n",
       "      <td>-96.923077</td>\n",
       "      <td>98.096102</td>\n",
       "      <td>76.007005</td>\n",
       "      <td>-48.562467</td>\n",
       "      <td>1.554404</td>\n",
       "    </tr>\n",
       "  </tbody>\n",
       "</table>\n",
       "</div>"
      ],
      "text/plain": [
       "   sequence_number                     timestamp  shoulder_pan.pos  \\\n",
       "0                1 2025-09-17 05:02:57.577260971          8.741522   \n",
       "1                2 2025-09-17 05:02:57.591734171          8.741522   \n",
       "2                3 2025-09-17 05:02:57.626360655          8.741522   \n",
       "3                4 2025-09-17 05:02:57.660084963          8.741522   \n",
       "4                5 2025-09-17 05:02:57.691118002          8.816880   \n",
       "\n",
       "   shoulder_lift.pos  elbow_flex.pos  wrist_flex.pos  wrist_roll.pos  \\\n",
       "0         -98.803419       99.274705       76.182137      -48.614741   \n",
       "1         -98.803419       99.274705       76.182137      -48.614741   \n",
       "2         -98.803419       99.274705       76.182137      -48.614741   \n",
       "3         -98.290598       99.184044       76.094571      -48.562467   \n",
       "4         -96.923077       98.096102       76.007005      -48.562467   \n",
       "\n",
       "   gripper.pos  \n",
       "0     1.480385  \n",
       "1     1.480385  \n",
       "2     1.480385  \n",
       "3     1.480385  \n",
       "4     1.554404  "
      ]
     },
     "execution_count": 4,
     "metadata": {},
     "output_type": "execute_result"
    }
   ],
   "source": [
    "from pathlib import Path\n",
    "\n",
    "dataset_dir = Path(\"/home/melon/sherry/so101_bench/datasets/recordings/eval_2025-09-14_smolvla_ood\")\n",
    "episode_name = \"2025-09-01_pick-and-place-block__068_2025-09-04_20-39-48__eval__010_2025-09-16_22-02-57\"\n",
    "\n",
    "import pandas as pd\n",
    "\n",
    "def load_jsonl_pandas(file_path):\n",
    "    df = pd.read_json(file_path, lines=True)\n",
    "    return df\n",
    "\n",
    "sync_logs_df = load_jsonl_pandas(dataset_dir / \"episodes\" / episode_name /'sync_logs.jsonl')\n",
    "sync_logs_df.head()\n",
    "\n",
    "follower_traj_df = load_jsonl_pandas(dataset_dir / \"episodes\" / episode_name / \"obs\" / \"follower_trajectory.jsonl\")\n",
    "follower_traj_df.head()\n",
    "\n",
    "leader_traj_df = load_jsonl_pandas(dataset_dir / \"episodes\" / episode_name / \"obs\" / \"leader_trajectory.jsonl\")\n",
    "leader_traj_df.head()\n",
    "\n"
   ]
  },
  {
   "cell_type": "code",
   "execution_count": 12,
   "id": "815c26e6",
   "metadata": {},
   "outputs": [
    {
     "name": "stdout",
     "output_type": "stream",
     "text": [
      "Timestamp spread statistics (seconds):\n",
      "  Mean: 64.172482\n",
      "  Median: 63.611269\n",
      "  Max: 257.714510\n",
      "  Min: 45.131207\n"
     ]
    },
    {
     "data": {
      "text/html": [
       "<div>\n",
       "<style scoped>\n",
       "    .dataframe tbody tr th:only-of-type {\n",
       "        vertical-align: middle;\n",
       "    }\n",
       "\n",
       "    .dataframe tbody tr th {\n",
       "        vertical-align: top;\n",
       "    }\n",
       "\n",
       "    .dataframe thead th {\n",
       "        text-align: right;\n",
       "    }\n",
       "</style>\n",
       "<table border=\"1\" class=\"dataframe\">\n",
       "  <thead>\n",
       "    <tr style=\"text-align: right;\">\n",
       "      <th></th>\n",
       "      <th>sequence_number</th>\n",
       "      <th>timestamp</th>\n",
       "      <th>robot_state_timestamp</th>\n",
       "      <th>camera_timestamps</th>\n",
       "      <th>action_timestamp</th>\n",
       "      <th>timestamp_spread</th>\n",
       "      <th>timestamp_spread_ms</th>\n",
       "    </tr>\n",
       "  </thead>\n",
       "  <tbody>\n",
       "    <tr>\n",
       "      <th>0</th>\n",
       "      <td>1</td>\n",
       "      <td>2025-09-17 05:02:57.379226208</td>\n",
       "      <td>1.758085e+09</td>\n",
       "      <td>{'cam_front': 1758085377.3195465, 'cam_top': 1...</td>\n",
       "      <td>1.758085e+09</td>\n",
       "      <td>0.257715</td>\n",
       "      <td>257.714510</td>\n",
       "    </tr>\n",
       "    <tr>\n",
       "      <th>1</th>\n",
       "      <td>2</td>\n",
       "      <td>2025-09-17 05:02:57.583858967</td>\n",
       "      <td>1.758085e+09</td>\n",
       "      <td>{'cam_front': 1758085377.551604, 'cam_top': 17...</td>\n",
       "      <td>1.758085e+09</td>\n",
       "      <td>0.047569</td>\n",
       "      <td>47.568798</td>\n",
       "    </tr>\n",
       "    <tr>\n",
       "      <th>2</th>\n",
       "      <td>3</td>\n",
       "      <td>2025-09-17 05:02:57.617257833</td>\n",
       "      <td>1.758085e+09</td>\n",
       "      <td>{'cam_front': 1758085377.58365, 'cam_top': 175...</td>\n",
       "      <td>1.758085e+09</td>\n",
       "      <td>0.050220</td>\n",
       "      <td>50.219536</td>\n",
       "    </tr>\n",
       "    <tr>\n",
       "      <th>3</th>\n",
       "      <td>4</td>\n",
       "      <td>2025-09-17 05:02:57.650657654</td>\n",
       "      <td>1.758085e+09</td>\n",
       "      <td>{'cam_front': 1758085377.619677, 'cam_top': 17...</td>\n",
       "      <td>1.758085e+09</td>\n",
       "      <td>0.047807</td>\n",
       "      <td>47.806740</td>\n",
       "    </tr>\n",
       "    <tr>\n",
       "      <th>4</th>\n",
       "      <td>5</td>\n",
       "      <td>2025-09-17 05:02:57.684056520</td>\n",
       "      <td>1.758085e+09</td>\n",
       "      <td>{'cam_front': 1758085377.6517184, 'cam_top': 1...</td>\n",
       "      <td>1.758085e+09</td>\n",
       "      <td>0.046840</td>\n",
       "      <td>46.839714</td>\n",
       "    </tr>\n",
       "  </tbody>\n",
       "</table>\n",
       "</div>"
      ],
      "text/plain": [
       "   sequence_number                     timestamp  robot_state_timestamp  \\\n",
       "0                1 2025-09-17 05:02:57.379226208           1.758085e+09   \n",
       "1                2 2025-09-17 05:02:57.583858967           1.758085e+09   \n",
       "2                3 2025-09-17 05:02:57.617257833           1.758085e+09   \n",
       "3                4 2025-09-17 05:02:57.650657654           1.758085e+09   \n",
       "4                5 2025-09-17 05:02:57.684056520           1.758085e+09   \n",
       "\n",
       "                                   camera_timestamps  action_timestamp  \\\n",
       "0  {'cam_front': 1758085377.3195465, 'cam_top': 1...      1.758085e+09   \n",
       "1  {'cam_front': 1758085377.551604, 'cam_top': 17...      1.758085e+09   \n",
       "2  {'cam_front': 1758085377.58365, 'cam_top': 175...      1.758085e+09   \n",
       "3  {'cam_front': 1758085377.619677, 'cam_top': 17...      1.758085e+09   \n",
       "4  {'cam_front': 1758085377.6517184, 'cam_top': 1...      1.758085e+09   \n",
       "\n",
       "   timestamp_spread  timestamp_spread_ms  \n",
       "0          0.257715           257.714510  \n",
       "1          0.047569            47.568798  \n",
       "2          0.050220            50.219536  \n",
       "3          0.047807            47.806740  \n",
       "4          0.046840            46.839714  "
      ]
     },
     "execution_count": 12,
     "metadata": {},
     "output_type": "execute_result"
    }
   ],
   "source": [
    "# Calculate timestamp spread (max - min) across all timestamp sources\n",
    "def calculate_timestamp_spread_ms(row):\n",
    "    timestamps = [\n",
    "        row['robot_state_timestamp'],\n",
    "        row['action_timestamp'],\n",
    "        row['camera_timestamps']['cam_front'],\n",
    "        row['camera_timestamps']['cam_top']\n",
    "    ]\n",
    "    return (max(timestamps) - min(timestamps)) * 1000\n",
    "\n",
    "sync_logs_df['timestamp_spread_ms'] = sync_logs_df.apply(calculate_timestamp_spread_ms, axis=1)\n",
    "\n",
    "# Display some statistics\n",
    "print(f\"Timestamp spread statistics (seconds):\")\n",
    "print(f\"  Mean: {sync_logs_df['timestamp_spread_ms'].mean():.6f}\")\n",
    "print(f\"  Median: {sync_logs_df['timestamp_spread_ms'].median():.6f}\")\n",
    "print(f\"  Max: {sync_logs_df['timestamp_spread_ms'].max():.6f}\")\n",
    "print(f\"  Min: {sync_logs_df['timestamp_spread_ms'].min():.6f}\")\n",
    "\n",
    "sync_logs_df.head()\n"
   ]
  },
  {
   "cell_type": "code",
   "execution_count": 15,
   "id": "97d0be17",
   "metadata": {},
   "outputs": [
    {
     "data": {
      "image/png": "[encoded data removed]",
      "text/plain": [
       "<Figure size 1000x1000 with 1 Axes>"
      ]
     },
     "metadata": {},
     "output_type": "display_data"
    }
   ],
   "source": [
    "from matplotlib import pyplot as plt\n",
    "\n",
    "fig = plt.figure(figsize=(10, 10))\n",
    "plt.plot(leader_traj_df[\"timestamp\"], leader_traj_df[\"shoulder_pan.pos\"], label=\"shoulder_pan.pos\")\n",
    "# plt.plot(follower_traj_df[\"timestamp\"], follower_traj_df[\"shoulder_pan.pos\"], label=\"follower_shoulder_pan.pos\")\n",
    "for row in sync_logs_df.itertuples():\n",
    "    if row.timestamp_spread_ms > 200:\n",
    "        plt.axvline(x=row.timestamp, color='red', linestyle='--')\n",
    "plt.legend()\n",
    "plt.show()\n",
    "\n",
    "\n"
   ]
  },
  {
   "cell_type": "code",
   "execution_count": null,
   "id": "7c3ed9f6",
   "metadata": {},
   "outputs": [
    {
     "name": "stdout",
     "output_type": "stream",
     "text": [
      "Timestamp spread statistics (seconds):\n",
      "  Mean: 64.172482\n",
      "  Median: 63.611269\n",
      "  Max: 257.714510\n",
      "  Min: 45.131207\n"
     ]
    },
    {
     "data": {
      "text/html": [
       "<div>\n",
       "<style scoped>\n",
       "    .dataframe tbody tr th:only-of-type {\n",
       "        vertical-align: middle;\n",
       "    }\n",
       "\n",
       "    .dataframe tbody tr th {\n",
       "        vertical-align: top;\n",
       "    }\n",
       "\n",
       "    .dataframe thead th {\n",
       "        text-align: right;\n",
       "    }\n",
       "</style>\n",
       "<table border=\"1\" class=\"dataframe\">\n",
       "  <thead>\n",
       "    <tr style=\"text-align: right;\">\n",
       "      <th></th>\n",
       "      <th>sequence_number</th>\n",
       "      <th>timestamp_spread_ms</th>\n",
       "    </tr>\n",
       "  </thead>\n",
       "  <tbody>\n",
       "    <tr>\n",
       "      <th>0</th>\n",
       "      <td>1</td>\n",
       "      <td>257.714510</td>\n",
       "    </tr>\n",
       "    <tr>\n",
       "      <th>1</th>\n",
       "      <td>2</td>\n",
       "      <td>47.568798</td>\n",
       "    </tr>\n",
       "    <tr>\n",
       "      <th>2</th>\n",
       "      <td>3</td>\n",
       "      <td>50.219536</td>\n",
       "    </tr>\n",
       "    <tr>\n",
       "      <th>3</th>\n",
       "      <td>4</td>\n",
       "      <td>47.806740</td>\n",
       "    </tr>\n",
       "    <tr>\n",
       "      <th>4</th>\n",
       "      <td>5</td>\n",
       "      <td>46.839714</td>\n",
       "    </tr>\n",
       "  </tbody>\n",
       "</table>\n",
       "</div>"
      ],
      "text/plain": [
       "   sequence_number  timestamp_spread_ms\n",
       "0                1           257.714510\n",
       "1                2            47.568798\n",
       "2                3            50.219536\n",
       "3                4            47.806740\n",
       "4                5            46.839714"
      ]
     },
     "execution_count": 10,
     "metadata": {},
     "output_type": "execute_result"
    }
   ],
   "source": []
  },
  {
   "cell_type": "code",
   "execution_count": null,
   "id": "3fd4c3a1",
   "metadata": {},
   "outputs": [],
   "source": []
  }
 ],
 "metadata": {
  "kernelspec": {
   "display_name": "Python (so101_bench_venv)",
   "language": "python",
   "name": "so101_bench_venv"
  },
  "language_info": {
   "codemirror_mode": {
    "name": "ipython",
    "version": 3
   },
   "file_extension": ".py",
   "mimetype": "text/x-python",
   "name": "python",
   "nbconvert_exporter": "python",
   "pygments_lexer": "ipython3",
   "version": "3.13.3"
  }
 },
 "nbformat": 4,
 "nbformat_minor": 5
}
